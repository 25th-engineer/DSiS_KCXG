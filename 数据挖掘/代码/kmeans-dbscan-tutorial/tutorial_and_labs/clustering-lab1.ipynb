{
 "cells": [
  {
   "cell_type": "markdown",
   "metadata": {},
   "source": [
    "<h1 style=\"text-align: center;\">K-means Lab</h1>\n",
    "<h4 style=\"text-align: center;\">Yu-Chun Lo (howard.lo@nlplab.cc)</h4>\n",
    "\n",
    "***\n",
    "\n",
    "In this lab, please complete the following tasks. Each tasks contain code template, all you need to do is to fill in the necessary code in the blanks. \n",
    "\n",
    "Please feel free to modify the code and gain hands-on expericne."
   ]
  },
  {
   "cell_type": "code",
   "execution_count": null,
   "metadata": {
    "collapsed": true
   },
   "outputs": [],
   "source": [
    "# Start from importing necessary packages.\n",
    "import warnings\n",
    "import numpy as np\n",
    "import matplotlib.pyplot as plt\n",
    "import matplotlib.cm as cm\n",
    "\n",
    "from IPython.display import display\n",
    "from sklearn import metrics # for evaluations\n",
    "from sklearn.datasets import make_blobs, make_circles # for generating experimental data\n",
    "from sklearn.preprocessing import StandardScaler # for feature scaling\n",
    "from sklearn.cluster import KMeans \n",
    "from sklearn.cluster import DBSCAN\n",
    "\n",
    "# make matplotlib plot inline (Only in Ipython).\n",
    "warnings.filterwarnings('ignore')\n",
    "%matplotlib inline"
   ]
  },
  {
   "cell_type": "markdown",
   "metadata": {},
   "source": [
    "### 1. Please generate 2-D training data and visualize the ground truth.\n",
    "\n",
    "Notes on `make_blobs()`:\n",
    "- `cluster_std`: The standard deviation of the clusters (the degree of data dispersion in clusters), e.g. a floating number.\n",
    "- `center_box`: The bounding box for each cluster center when centers are generated at random, e.g. a tuple `(min, max)`."
   ]
  },
  {
   "cell_type": "code",
   "execution_count": null,
   "metadata": {
    "collapsed": false
   },
   "outputs": [],
   "source": [
    "\"\"\" TODO: Generate the training data \"\"\"\n",
    "\n",
    "# HINT\n",
    "# X, y = make_blobs(n_samples=___,\n",
    "#                   n_features=___,\n",
    "#                   centers=___,\n",
    "#                   cluster_std=___,\n",
    "#                   center_box=___)\n",
    "\n",
    "\"\"\" TODO: Visualize the training data \"\"\"\n",
    "\n",
    "# HINT\n",
    "# plt.scatter(___, ___, c=___)"
   ]
  },
  {
   "cell_type": "markdown",
   "metadata": {},
   "source": [
    "### 2. Apply *k-means* on your training data and visualize the predictions and centroids."
   ]
  },
  {
   "cell_type": "code",
   "execution_count": null,
   "metadata": {
    "collapsed": false
   },
   "outputs": [],
   "source": [
    "\"\"\" TODO: Generate the training data \"\"\"\n",
    "\n",
    "# HINT\n",
    "# kmeans = KMeans(n_clusters=___,\n",
    "#                 n_init=___,\n",
    "#                 tol=___, \n",
    "#                 verbose=True).fit(X)\n",
    "\n",
    "\"\"\" TODO: Visualize the predictions \"\"\"\n",
    "# HINT\n",
    "# plt.scatter(___, ___, c=kmeans.___)\n",
    "\n",
    "\"\"\" TODO: Visualize centroids \"\"\"\n",
    "# HINT\n",
    "# plt.scatter(kmeans.___, \n",
    "#             kmeans.___, \n",
    "#             c='w', marker='x', linewidths=2)"
   ]
  }
 ],
 "metadata": {
  "anaconda-cloud": {},
  "kernelspec": {
   "display_name": "Python [conda root]",
   "language": "python",
   "name": "conda-root-py"
  },
  "language_info": {
   "codemirror_mode": {
    "name": "ipython",
    "version": 2
   },
   "file_extension": ".py",
   "mimetype": "text/x-python",
   "name": "python",
   "nbconvert_exporter": "python",
   "pygments_lexer": "ipython2",
   "version": "2.7.12"
  }
 },
 "nbformat": 4,
 "nbformat_minor": 1
}
