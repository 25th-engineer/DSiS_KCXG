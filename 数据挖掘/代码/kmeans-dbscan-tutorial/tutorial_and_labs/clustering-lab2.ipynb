{
 "cells": [
  {
   "cell_type": "markdown",
   "metadata": {},
   "source": [
    "<h1 style=\"text-align: center;\">DBSCAN Lab</h1>\n",
    "<h4 style=\"text-align: center;\">Yu-Chun Lo (howard.lo@nlplab.cc)</h4>\n",
    "\n",
    "***\n",
    "\n",
    "In this lab, please complete the following tasks. Each tasks contain code template, all you need to do is to fill in the necessary code in the blanks. \n",
    "\n",
    "Please feel free to modify the code and gain hands-on expericne."
   ]
  },
  {
   "cell_type": "code",
   "execution_count": null,
   "metadata": {
    "collapsed": true
   },
   "outputs": [],
   "source": [
    "# Start from importing necessary packages.\n",
    "import warnings\n",
    "import numpy as np\n",
    "import matplotlib.pyplot as plt\n",
    "import matplotlib.cm as cm\n",
    "\n",
    "from IPython.display import display\n",
    "from sklearn import metrics # for evaluations\n",
    "from sklearn.datasets import make_blobs, make_circles, make_moons # for generating experimental data\n",
    "from sklearn.preprocessing import StandardScaler # for feature scaling\n",
    "from sklearn.cluster import KMeans \n",
    "from sklearn.cluster import DBSCAN\n",
    "\n",
    "# make matplotlib plot inline (Only in Ipython).\n",
    "warnings.filterwarnings('ignore')\n",
    "%matplotlib inline"
   ]
  },
  {
   "cell_type": "markdown",
   "metadata": {},
   "source": [
    "Now we have the existing training data."
   ]
  },
  {
   "cell_type": "code",
   "execution_count": null,
   "metadata": {
    "collapsed": false
   },
   "outputs": [],
   "source": [
    "# Generate data with 4 centers.\n",
    "X, y = make_blobs(n_samples=500,\n",
    "                  n_features=2,\n",
    "                  centers=4,\n",
    "                  cluster_std=1,\n",
    "                  center_box=(-10.0, 10.0),\n",
    "                  shuffle=True,\n",
    "                  random_state=1)\n",
    "\n",
    "# Standardize features to zero mean and unit variance.\n",
    "X = StandardScaler().fit_transform(X)\n",
    "\n",
    "# Plot the ground truth\n",
    "plt.scatter(X[:,0], X[:,1], c=y)"
   ]
  },
  {
   "cell_type": "markdown",
   "metadata": {},
   "source": [
    "### Please complete the following tasks:\n",
    "- Apply *DBSCAN* algorithm on the training data\n",
    "- Compute homogeneity score, completeness score and silhouette_score.\n",
    "- Re-select the good parameters (`eps`, `min_sample`) based on the cluster quality scores."
   ]
  },
  {
   "cell_type": "code",
   "execution_count": null,
   "metadata": {
    "collapsed": false
   },
   "outputs": [],
   "source": [
    "\"\"\" TODO: Perform DBSCAN on the data \"\"\"\n",
    "# HINT\n",
    "# y_pred = DBSCAN(eps=__, min_samples=__).fit_predict(X)\n",
    "\n",
    "# Plot the predictions\n",
    "plt.scatter(X[:,0], X[:,1], c=y_pred)\n",
    "\n",
    "\"\"\" TODO: Print the evaluations \"\"\"\n",
    "print('Number of clusters: {}'.format(len(set(y_pred[np.where(y_pred != -1)]))))\n",
    "\n",
    "# HINT \n",
    "# print('Homogeneity: {}'.format(metrics.___(___, ___)))\n",
    "# print('Completeness: {}'.format(metrics.___(___, ___)))\n",
    "# print('Mean Silhouette score: {}'.format(metrics.___(___, ___)))"
   ]
  }
 ],
 "metadata": {
  "anaconda-cloud": {},
  "kernelspec": {
   "display_name": "Python [conda root]",
   "language": "python",
   "name": "conda-root-py"
  },
  "language_info": {
   "codemirror_mode": {
    "name": "ipython",
    "version": 2
   },
   "file_extension": ".py",
   "mimetype": "text/x-python",
   "name": "python",
   "nbconvert_exporter": "python",
   "pygments_lexer": "ipython2",
   "version": "2.7.12"
  }
 },
 "nbformat": 4,
 "nbformat_minor": 1
}
